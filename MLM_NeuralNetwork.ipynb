{
 "metadata": {
  "language_info": {
   "codemirror_mode": {
    "name": "ipython",
    "version": 3
   },
   "file_extension": ".py",
   "mimetype": "text/x-python",
   "name": "python",
   "nbconvert_exporter": "python",
   "pygments_lexer": "ipython3",
   "version": "3.7.4-final"
  },
  "orig_nbformat": 2,
  "kernelspec": {
   "name": "Python 3.7.4 64-bit (conda)",
   "display_name": "Python 3.7.4 64-bit (conda)",
   "metadata": {
    "interpreter": {
     "hash": "d0b275da17715d9055f4a4ed2c551b904732c435e15639b3f41b58f43119799b"
    }
   }
  }
 },
 "nbformat": 4,
 "nbformat_minor": 2,
 "cells": [
  {
   "cell_type": "code",
   "execution_count": 76,
   "metadata": {
    "tags": []
   },
   "outputs": [],
   "source": [
    "#!pip install keras\n",
    "import numpy as np \n",
    "import pandas as pd \n",
    "import matplotlib as plt \n",
    "\n",
    "from sklearn import datasets \n",
    "from sklearn.model_selection import train_test_split\n",
    "from sklearn import preprocessing\n",
    "\n",
    "from keras.models import Sequential\n",
    "from keras.layers import Dense\n",
    "from keras.utils import to_categorical\n",
    "\n"
   ]
  },
  {
   "cell_type": "code",
   "execution_count": 77,
   "metadata": {},
   "outputs": [],
   "source": [
    "iris = datasets.load_iris()"
   ]
  },
  {
   "cell_type": "code",
   "execution_count": 78,
   "metadata": {
    "tags": []
   },
   "outputs": [],
   "source": [
    "#Normalized X: \n",
    "#X = preprocessing.scale(iris['data'])\n",
    "\n",
    "# Un-normalized X: \n",
    "X = iris['data']\n",
    "Y = to_categorical(iris['target'])"
   ]
  },
  {
   "cell_type": "code",
   "execution_count": 79,
   "metadata": {},
   "outputs": [],
   "source": [
    "# Training data and test data\n",
    "x_train, x_test, y_train, y_test = train_test_split(X, Y, test_size=0.1)"
   ]
  },
  {
   "cell_type": "code",
   "execution_count": 80,
   "metadata": {},
   "outputs": [],
   "source": [
    "# Model \n",
    "model = Sequential()\n",
    "model.add(Dense(10, input_dim = 4, activation = 'relu'))\n",
    "model.add(Dense(3, activation = 'softmax'))\n",
    "model.compile(loss = 'categorical_crossentropy', optimizer = 'adam', metrics = ['accuracy'])"
   ]
  },
  {
   "cell_type": "code",
   "execution_count": 81,
   "metadata": {
    "tags": [
     "outputPrepend"
    ]
   },
   "outputs": [
    {
     "output_type": "stream",
     "name": "stdout",
     "text": "\nEpoch 61/200\n14/14 [==============================] - 0s 3ms/step - loss: 0.2578 - accuracy: 0.9704 - val_loss: 0.3298 - val_accuracy: 0.9333\nEpoch 62/200\n14/14 [==============================] - 0s 3ms/step - loss: 0.2523 - accuracy: 0.9778 - val_loss: 0.3106 - val_accuracy: 0.9333\nEpoch 63/200\n14/14 [==============================] - 0s 3ms/step - loss: 0.2502 - accuracy: 0.9778 - val_loss: 0.3076 - val_accuracy: 0.9333\nEpoch 64/200\n14/14 [==============================] - 0s 3ms/step - loss: 0.2457 - accuracy: 0.9852 - val_loss: 0.3009 - val_accuracy: 0.9333\nEpoch 65/200\n14/14 [==============================] - 0s 3ms/step - loss: 0.2425 - accuracy: 0.9852 - val_loss: 0.2925 - val_accuracy: 0.9333\nEpoch 66/200\n14/14 [==============================] - 0s 3ms/step - loss: 0.2393 - accuracy: 0.9778 - val_loss: 0.3185 - val_accuracy: 0.9333\nEpoch 67/200\n14/14 [==============================] - 0s 3ms/step - loss: 0.2357 - accuracy: 0.9852 - val_loss: 0.2968 - val_accuracy: 0.9333\nEpoch 68/200\n14/14 [==============================] - 0s 3ms/step - loss: 0.2315 - accuracy: 0.9852 - val_loss: 0.2927 - val_accuracy: 0.9333\nEpoch 69/200\n14/14 [==============================] - 0s 3ms/step - loss: 0.2285 - accuracy: 0.9778 - val_loss: 0.2944 - val_accuracy: 0.9333\nEpoch 70/200\n14/14 [==============================] - 0s 3ms/step - loss: 0.2253 - accuracy: 0.9852 - val_loss: 0.2888 - val_accuracy: 0.9333\nEpoch 71/200\n14/14 [==============================] - 0s 3ms/step - loss: 0.2230 - accuracy: 0.9852 - val_loss: 0.2857 - val_accuracy: 0.9333\nEpoch 72/200\n14/14 [==============================] - 0s 3ms/step - loss: 0.2211 - accuracy: 0.9778 - val_loss: 0.3064 - val_accuracy: 0.9333\nEpoch 73/200\n14/14 [==============================] - 0s 3ms/step - loss: 0.2152 - accuracy: 0.9704 - val_loss: 0.2794 - val_accuracy: 0.9333\nEpoch 74/200\n14/14 [==============================] - 0s 3ms/step - loss: 0.2129 - accuracy: 0.9852 - val_loss: 0.2794 - val_accuracy: 0.9333\nEpoch 75/200\n14/14 [==============================] - 0s 3ms/step - loss: 0.2101 - accuracy: 0.9852 - val_loss: 0.2796 - val_accuracy: 0.9333\nEpoch 76/200\n14/14 [==============================] - 0s 3ms/step - loss: 0.2128 - accuracy: 0.9852 - val_loss: 0.2773 - val_accuracy: 0.9333\nEpoch 77/200\n14/14 [==============================] - 0s 3ms/step - loss: 0.2079 - accuracy: 0.9778 - val_loss: 0.3056 - val_accuracy: 0.9333\nEpoch 78/200\n14/14 [==============================] - 0s 3ms/step - loss: 0.2031 - accuracy: 0.9778 - val_loss: 0.2831 - val_accuracy: 0.9333\nEpoch 79/200\n14/14 [==============================] - 0s 3ms/step - loss: 0.1981 - accuracy: 0.9778 - val_loss: 0.2657 - val_accuracy: 0.9333\nEpoch 80/200\n14/14 [==============================] - 0s 3ms/step - loss: 0.1974 - accuracy: 0.9852 - val_loss: 0.2750 - val_accuracy: 0.9333\nEpoch 81/200\n14/14 [==============================] - 0s 3ms/step - loss: 0.1936 - accuracy: 0.9778 - val_loss: 0.2618 - val_accuracy: 0.9333\nEpoch 82/200\n14/14 [==============================] - 0s 3ms/step - loss: 0.1921 - accuracy: 0.9852 - val_loss: 0.2651 - val_accuracy: 0.9333\nEpoch 83/200\n14/14 [==============================] - 0s 3ms/step - loss: 0.1902 - accuracy: 0.9778 - val_loss: 0.2834 - val_accuracy: 0.9333\nEpoch 84/200\n14/14 [==============================] - 0s 3ms/step - loss: 0.1864 - accuracy: 0.9778 - val_loss: 0.2596 - val_accuracy: 0.9333\nEpoch 85/200\n14/14 [==============================] - 0s 3ms/step - loss: 0.1849 - accuracy: 0.9852 - val_loss: 0.2513 - val_accuracy: 0.9333\nEpoch 86/200\n14/14 [==============================] - 0s 3ms/step - loss: 0.1827 - accuracy: 0.9852 - val_loss: 0.2652 - val_accuracy: 0.9333\nEpoch 87/200\n14/14 [==============================] - 0s 3ms/step - loss: 0.1807 - accuracy: 0.9704 - val_loss: 0.2860 - val_accuracy: 0.9333\nEpoch 88/200\n14/14 [==============================] - 0s 3ms/step - loss: 0.1802 - accuracy: 0.9778 - val_loss: 0.2452 - val_accuracy: 0.9333\nEpoch 89/200\n14/14 [==============================] - 0s 3ms/step - loss: 0.1761 - accuracy: 0.9852 - val_loss: 0.2566 - val_accuracy: 0.9333\nEpoch 90/200\n14/14 [==============================] - 0s 3ms/step - loss: 0.1734 - accuracy: 0.9778 - val_loss: 0.2656 - val_accuracy: 0.9333\nEpoch 91/200\n14/14 [==============================] - 0s 3ms/step - loss: 0.1712 - accuracy: 0.9778 - val_loss: 0.2609 - val_accuracy: 0.9333\nEpoch 92/200\n14/14 [==============================] - 0s 3ms/step - loss: 0.1692 - accuracy: 0.9778 - val_loss: 0.2527 - val_accuracy: 0.9333\nEpoch 93/200\n14/14 [==============================] - 0s 3ms/step - loss: 0.1696 - accuracy: 0.9852 - val_loss: 0.2438 - val_accuracy: 0.9333\nEpoch 94/200\n14/14 [==============================] - 0s 3ms/step - loss: 0.1666 - accuracy: 0.9852 - val_loss: 0.2590 - val_accuracy: 0.9333\nEpoch 95/200\n14/14 [==============================] - 0s 3ms/step - loss: 0.1655 - accuracy: 0.9778 - val_loss: 0.2597 - val_accuracy: 0.9333\nEpoch 96/200\n14/14 [==============================] - 0s 3ms/step - loss: 0.1628 - accuracy: 0.9852 - val_loss: 0.2404 - val_accuracy: 0.9333\nEpoch 97/200\n14/14 [==============================] - 0s 3ms/step - loss: 0.1606 - accuracy: 0.9778 - val_loss: 0.2559 - val_accuracy: 0.9333\nEpoch 98/200\n14/14 [==============================] - 0s 3ms/step - loss: 0.1587 - accuracy: 0.9852 - val_loss: 0.2383 - val_accuracy: 0.9333\nEpoch 99/200\n14/14 [==============================] - 0s 3ms/step - loss: 0.1561 - accuracy: 0.9852 - val_loss: 0.2483 - val_accuracy: 0.9333\nEpoch 100/200\n14/14 [==============================] - 0s 3ms/step - loss: 0.1567 - accuracy: 0.9778 - val_loss: 0.2510 - val_accuracy: 0.9333\nEpoch 101/200\n14/14 [==============================] - 0s 4ms/step - loss: 0.1535 - accuracy: 0.9852 - val_loss: 0.2361 - val_accuracy: 0.9333\nEpoch 102/200\n14/14 [==============================] - 0s 3ms/step - loss: 0.1509 - accuracy: 0.9852 - val_loss: 0.2566 - val_accuracy: 0.9333\nEpoch 103/200\n14/14 [==============================] - 0s 3ms/step - loss: 0.1505 - accuracy: 0.9778 - val_loss: 0.2542 - val_accuracy: 0.9333\nEpoch 104/200\n14/14 [==============================] - 0s 3ms/step - loss: 0.1491 - accuracy: 0.9778 - val_loss: 0.2275 - val_accuracy: 0.9333\nEpoch 105/200\n14/14 [==============================] - 0s 3ms/step - loss: 0.1471 - accuracy: 0.9852 - val_loss: 0.2368 - val_accuracy: 0.9333\nEpoch 106/200\n14/14 [==============================] - 0s 3ms/step - loss: 0.1486 - accuracy: 0.9852 - val_loss: 0.2234 - val_accuracy: 0.9333\nEpoch 107/200\n14/14 [==============================] - 0s 3ms/step - loss: 0.1434 - accuracy: 0.9852 - val_loss: 0.2460 - val_accuracy: 0.9333\nEpoch 108/200\n14/14 [==============================] - 0s 3ms/step - loss: 0.1425 - accuracy: 0.9778 - val_loss: 0.2461 - val_accuracy: 0.9333\nEpoch 109/200\n14/14 [==============================] - 0s 3ms/step - loss: 0.1428 - accuracy: 0.9852 - val_loss: 0.2306 - val_accuracy: 0.9333\nEpoch 110/200\n14/14 [==============================] - 0s 3ms/step - loss: 0.1478 - accuracy: 0.9778 - val_loss: 0.2570 - val_accuracy: 0.9333\nEpoch 111/200\n14/14 [==============================] - 0s 3ms/step - loss: 0.1386 - accuracy: 0.9778 - val_loss: 0.2192 - val_accuracy: 0.9333\nEpoch 112/200\n14/14 [==============================] - 0s 3ms/step - loss: 0.1376 - accuracy: 0.9778 - val_loss: 0.2360 - val_accuracy: 0.9333\nEpoch 113/200\n14/14 [==============================] - 0s 3ms/step - loss: 0.1356 - accuracy: 0.9778 - val_loss: 0.2363 - val_accuracy: 0.9333\nEpoch 114/200\n14/14 [==============================] - 0s 3ms/step - loss: 0.1345 - accuracy: 0.9778 - val_loss: 0.2359 - val_accuracy: 0.9333\nEpoch 115/200\n14/14 [==============================] - 0s 3ms/step - loss: 0.1340 - accuracy: 0.9778 - val_loss: 0.2383 - val_accuracy: 0.9333\nEpoch 116/200\n14/14 [==============================] - 0s 3ms/step - loss: 0.1347 - accuracy: 0.9852 - val_loss: 0.2130 - val_accuracy: 0.9333\nEpoch 117/200\n14/14 [==============================] - 0s 3ms/step - loss: 0.1307 - accuracy: 0.9852 - val_loss: 0.2346 - val_accuracy: 0.9333\nEpoch 118/200\n14/14 [==============================] - 0s 3ms/step - loss: 0.1297 - accuracy: 0.9778 - val_loss: 0.2298 - val_accuracy: 0.9333\nEpoch 119/200\n14/14 [==============================] - 0s 3ms/step - loss: 0.1281 - accuracy: 0.9778 - val_loss: 0.2256 - val_accuracy: 0.9333\nEpoch 120/200\n14/14 [==============================] - 0s 3ms/step - loss: 0.1279 - accuracy: 0.9778 - val_loss: 0.2258 - val_accuracy: 0.9333\nEpoch 121/200\n14/14 [==============================] - 0s 4ms/step - loss: 0.1263 - accuracy: 0.9778 - val_loss: 0.2214 - val_accuracy: 0.9333\nEpoch 122/200\n14/14 [==============================] - 0s 3ms/step - loss: 0.1249 - accuracy: 0.9778 - val_loss: 0.2298 - val_accuracy: 0.9333\nEpoch 123/200\n14/14 [==============================] - 0s 3ms/step - loss: 0.1247 - accuracy: 0.9778 - val_loss: 0.2283 - val_accuracy: 0.9333\nEpoch 124/200\n14/14 [==============================] - 0s 3ms/step - loss: 0.1235 - accuracy: 0.9778 - val_loss: 0.2248 - val_accuracy: 0.9333\nEpoch 125/200\n14/14 [==============================] - 0s 3ms/step - loss: 0.1215 - accuracy: 0.9778 - val_loss: 0.2261 - val_accuracy: 0.9333\nEpoch 126/200\n14/14 [==============================] - 0s 3ms/step - loss: 0.1206 - accuracy: 0.9852 - val_loss: 0.2214 - val_accuracy: 0.9333\nEpoch 127/200\n14/14 [==============================] - 0s 3ms/step - loss: 0.1196 - accuracy: 0.9778 - val_loss: 0.2322 - val_accuracy: 0.9333\nEpoch 128/200\n14/14 [==============================] - 0s 3ms/step - loss: 0.1188 - accuracy: 0.9778 - val_loss: 0.2129 - val_accuracy: 0.9333\nEpoch 129/200\n14/14 [==============================] - 0s 3ms/step - loss: 0.1178 - accuracy: 0.9778 - val_loss: 0.2244 - val_accuracy: 0.9333\nEpoch 130/200\n14/14 [==============================] - 0s 3ms/step - loss: 0.1193 - accuracy: 0.9852 - val_loss: 0.2083 - val_accuracy: 0.9333\nEpoch 131/200\n14/14 [==============================] - 0s 4ms/step - loss: 0.1141 - accuracy: 0.9778 - val_loss: 0.2343 - val_accuracy: 0.9333\nEpoch 132/200\n14/14 [==============================] - 0s 3ms/step - loss: 0.1163 - accuracy: 0.9778 - val_loss: 0.2402 - val_accuracy: 0.9333\nEpoch 133/200\n14/14 [==============================] - 0s 3ms/step - loss: 0.1146 - accuracy: 0.9778 - val_loss: 0.2126 - val_accuracy: 0.9333\nEpoch 134/200\n14/14 [==============================] - 0s 4ms/step - loss: 0.1132 - accuracy: 0.9852 - val_loss: 0.2129 - val_accuracy: 0.9333\nEpoch 135/200\n14/14 [==============================] - 0s 4ms/step - loss: 0.1145 - accuracy: 0.9778 - val_loss: 0.2419 - val_accuracy: 0.9333\nEpoch 136/200\n14/14 [==============================] - 0s 3ms/step - loss: 0.1119 - accuracy: 0.9778 - val_loss: 0.2192 - val_accuracy: 0.9333\nEpoch 137/200\n14/14 [==============================] - 0s 3ms/step - loss: 0.1110 - accuracy: 0.9852 - val_loss: 0.2071 - val_accuracy: 0.9333\nEpoch 138/200\n14/14 [==============================] - 0s 3ms/step - loss: 0.1107 - accuracy: 0.9852 - val_loss: 0.2053 - val_accuracy: 0.9333\nEpoch 139/200\n14/14 [==============================] - 0s 3ms/step - loss: 0.1092 - accuracy: 0.9778 - val_loss: 0.2251 - val_accuracy: 0.9333\nEpoch 140/200\n14/14 [==============================] - 0s 3ms/step - loss: 0.1080 - accuracy: 0.9778 - val_loss: 0.2174 - val_accuracy: 0.9333\nEpoch 141/200\n14/14 [==============================] - 0s 3ms/step - loss: 0.1072 - accuracy: 0.9778 - val_loss: 0.2109 - val_accuracy: 0.9333\nEpoch 142/200\n14/14 [==============================] - 0s 3ms/step - loss: 0.1088 - accuracy: 0.9778 - val_loss: 0.2037 - val_accuracy: 0.9333\nEpoch 143/200\n14/14 [==============================] - 0s 3ms/step - loss: 0.1054 - accuracy: 0.9778 - val_loss: 0.2334 - val_accuracy: 0.9333\nEpoch 144/200\n14/14 [==============================] - 0s 3ms/step - loss: 0.1063 - accuracy: 0.9778 - val_loss: 0.2157 - val_accuracy: 0.9333\nEpoch 145/200\n14/14 [==============================] - 0s 3ms/step - loss: 0.1044 - accuracy: 0.9778 - val_loss: 0.2070 - val_accuracy: 0.9333\nEpoch 146/200\n14/14 [==============================] - 0s 3ms/step - loss: 0.1034 - accuracy: 0.9778 - val_loss: 0.2245 - val_accuracy: 0.9333\nEpoch 147/200\n14/14 [==============================] - 0s 3ms/step - loss: 0.1028 - accuracy: 0.9778 - val_loss: 0.2128 - val_accuracy: 0.9333\nEpoch 148/200\n14/14 [==============================] - 0s 3ms/step - loss: 0.1024 - accuracy: 0.9778 - val_loss: 0.1975 - val_accuracy: 0.9333\nEpoch 149/200\n14/14 [==============================] - 0s 3ms/step - loss: 0.1027 - accuracy: 0.9778 - val_loss: 0.2029 - val_accuracy: 0.9333\nEpoch 150/200\n14/14 [==============================] - 0s 3ms/step - loss: 0.1006 - accuracy: 0.9778 - val_loss: 0.2151 - val_accuracy: 0.9333\nEpoch 151/200\n14/14 [==============================] - 0s 3ms/step - loss: 0.1009 - accuracy: 0.9778 - val_loss: 0.2133 - val_accuracy: 0.9333\nEpoch 152/200\n14/14 [==============================] - 0s 3ms/step - loss: 0.1005 - accuracy: 0.9778 - val_loss: 0.2056 - val_accuracy: 0.9333\nEpoch 153/200\n14/14 [==============================] - 0s 3ms/step - loss: 0.0990 - accuracy: 0.9778 - val_loss: 0.2085 - val_accuracy: 0.9333\nEpoch 154/200\n14/14 [==============================] - 0s 3ms/step - loss: 0.0992 - accuracy: 0.9852 - val_loss: 0.2005 - val_accuracy: 0.9333\nEpoch 155/200\n14/14 [==============================] - 0s 3ms/step - loss: 0.0976 - accuracy: 0.9778 - val_loss: 0.2256 - val_accuracy: 0.9333\nEpoch 156/200\n14/14 [==============================] - 0s 3ms/step - loss: 0.0991 - accuracy: 0.9778 - val_loss: 0.2045 - val_accuracy: 0.9333\nEpoch 157/200\n14/14 [==============================] - 0s 3ms/step - loss: 0.0975 - accuracy: 0.9778 - val_loss: 0.2292 - val_accuracy: 0.9333\nEpoch 158/200\n14/14 [==============================] - 0s 3ms/step - loss: 0.0964 - accuracy: 0.9778 - val_loss: 0.2060 - val_accuracy: 0.9333\nEpoch 159/200\n14/14 [==============================] - 0s 3ms/step - loss: 0.0951 - accuracy: 0.9852 - val_loss: 0.1964 - val_accuracy: 0.9333\nEpoch 160/200\n14/14 [==============================] - 0s 3ms/step - loss: 0.0957 - accuracy: 0.9778 - val_loss: 0.2064 - val_accuracy: 0.9333\nEpoch 161/200\n14/14 [==============================] - 0s 3ms/step - loss: 0.0941 - accuracy: 0.9778 - val_loss: 0.2036 - val_accuracy: 0.9333\nEpoch 162/200\n14/14 [==============================] - 0s 3ms/step - loss: 0.0932 - accuracy: 0.9778 - val_loss: 0.2064 - val_accuracy: 0.9333\nEpoch 163/200\n14/14 [==============================] - 0s 4ms/step - loss: 0.0931 - accuracy: 0.9778 - val_loss: 0.2074 - val_accuracy: 0.9333\nEpoch 164/200\n14/14 [==============================] - 0s 3ms/step - loss: 0.0928 - accuracy: 0.9778 - val_loss: 0.2056 - val_accuracy: 0.9333\nEpoch 165/200\n14/14 [==============================] - 0s 3ms/step - loss: 0.0931 - accuracy: 0.9778 - val_loss: 0.2061 - val_accuracy: 0.9333\nEpoch 166/200\n14/14 [==============================] - 0s 3ms/step - loss: 0.0932 - accuracy: 0.9852 - val_loss: 0.1909 - val_accuracy: 0.9333\nEpoch 167/200\n14/14 [==============================] - 0s 3ms/step - loss: 0.0925 - accuracy: 0.9778 - val_loss: 0.2143 - val_accuracy: 0.9333\nEpoch 168/200\n14/14 [==============================] - 0s 3ms/step - loss: 0.0922 - accuracy: 0.9778 - val_loss: 0.2002 - val_accuracy: 0.9333\nEpoch 169/200\n14/14 [==============================] - 0s 3ms/step - loss: 0.0931 - accuracy: 0.9778 - val_loss: 0.2302 - val_accuracy: 0.9333\nEpoch 170/200\n14/14 [==============================] - 0s 3ms/step - loss: 0.0917 - accuracy: 0.9852 - val_loss: 0.1903 - val_accuracy: 0.9333\nEpoch 171/200\n14/14 [==============================] - 0s 3ms/step - loss: 0.0894 - accuracy: 0.9778 - val_loss: 0.2151 - val_accuracy: 0.9333\nEpoch 172/200\n14/14 [==============================] - 0s 3ms/step - loss: 0.0887 - accuracy: 0.9778 - val_loss: 0.2044 - val_accuracy: 0.9333\nEpoch 173/200\n14/14 [==============================] - 0s 4ms/step - loss: 0.0878 - accuracy: 0.9778 - val_loss: 0.2050 - val_accuracy: 0.9333\nEpoch 174/200\n14/14 [==============================] - 0s 3ms/step - loss: 0.0898 - accuracy: 0.9778 - val_loss: 0.1989 - val_accuracy: 0.9333\nEpoch 175/200\n14/14 [==============================] - 0s 3ms/step - loss: 0.0866 - accuracy: 0.9778 - val_loss: 0.2026 - val_accuracy: 0.9333\nEpoch 176/200\n14/14 [==============================] - 0s 3ms/step - loss: 0.0863 - accuracy: 0.9778 - val_loss: 0.1987 - val_accuracy: 0.9333\nEpoch 177/200\n14/14 [==============================] - 0s 3ms/step - loss: 0.0873 - accuracy: 0.9778 - val_loss: 0.2078 - val_accuracy: 0.9333\nEpoch 178/200\n14/14 [==============================] - 0s 3ms/step - loss: 0.0867 - accuracy: 0.9778 - val_loss: 0.2026 - val_accuracy: 0.9333\nEpoch 179/200\n14/14 [==============================] - 0s 3ms/step - loss: 0.0867 - accuracy: 0.9778 - val_loss: 0.2095 - val_accuracy: 0.9333\nEpoch 180/200\n14/14 [==============================] - 0s 3ms/step - loss: 0.0841 - accuracy: 0.9778 - val_loss: 0.1940 - val_accuracy: 0.9333\nEpoch 181/200\n14/14 [==============================] - 0s 3ms/step - loss: 0.0850 - accuracy: 0.9852 - val_loss: 0.1952 - val_accuracy: 0.9333\nEpoch 182/200\n14/14 [==============================] - 0s 3ms/step - loss: 0.0854 - accuracy: 0.9778 - val_loss: 0.2120 - val_accuracy: 0.9333\nEpoch 183/200\n14/14 [==============================] - 0s 3ms/step - loss: 0.0841 - accuracy: 0.9778 - val_loss: 0.1861 - val_accuracy: 0.9333\nEpoch 184/200\n14/14 [==============================] - 0s 3ms/step - loss: 0.0830 - accuracy: 0.9852 - val_loss: 0.1943 - val_accuracy: 0.9333\nEpoch 185/200\n14/14 [==============================] - 0s 3ms/step - loss: 0.0819 - accuracy: 0.9778 - val_loss: 0.2175 - val_accuracy: 0.9333\nEpoch 186/200\n14/14 [==============================] - 0s 3ms/step - loss: 0.0825 - accuracy: 0.9778 - val_loss: 0.2119 - val_accuracy: 0.9333\nEpoch 187/200\n14/14 [==============================] - 0s 3ms/step - loss: 0.0819 - accuracy: 0.9778 - val_loss: 0.1980 - val_accuracy: 0.9333\nEpoch 188/200\n14/14 [==============================] - 0s 3ms/step - loss: 0.0810 - accuracy: 0.9778 - val_loss: 0.1907 - val_accuracy: 0.9333\nEpoch 189/200\n14/14 [==============================] - 0s 3ms/step - loss: 0.0812 - accuracy: 0.9852 - val_loss: 0.1919 - val_accuracy: 0.9333\nEpoch 190/200\n14/14 [==============================] - 0s 3ms/step - loss: 0.0812 - accuracy: 0.9778 - val_loss: 0.1955 - val_accuracy: 0.9333\nEpoch 191/200\n14/14 [==============================] - 0s 4ms/step - loss: 0.0799 - accuracy: 0.9778 - val_loss: 0.2051 - val_accuracy: 0.9333\nEpoch 192/200\n14/14 [==============================] - 0s 3ms/step - loss: 0.0811 - accuracy: 0.9778 - val_loss: 0.2087 - val_accuracy: 0.9333\nEpoch 193/200\n14/14 [==============================] - 0s 3ms/step - loss: 0.0800 - accuracy: 0.9778 - val_loss: 0.1911 - val_accuracy: 0.9333\nEpoch 194/200\n14/14 [==============================] - 0s 3ms/step - loss: 0.0793 - accuracy: 0.9852 - val_loss: 0.1968 - val_accuracy: 0.9333\nEpoch 195/200\n14/14 [==============================] - 0s 3ms/step - loss: 0.0788 - accuracy: 0.9778 - val_loss: 0.1982 - val_accuracy: 0.9333\nEpoch 196/200\n14/14 [==============================] - 0s 3ms/step - loss: 0.0788 - accuracy: 0.9778 - val_loss: 0.2023 - val_accuracy: 0.9333\nEpoch 197/200\n14/14 [==============================] - 0s 3ms/step - loss: 0.0777 - accuracy: 0.9778 - val_loss: 0.1976 - val_accuracy: 0.9333\nEpoch 198/200\n14/14 [==============================] - 0s 3ms/step - loss: 0.0789 - accuracy: 0.9778 - val_loss: 0.2039 - val_accuracy: 0.9333\nEpoch 199/200\n14/14 [==============================] - 0s 3ms/step - loss: 0.0791 - accuracy: 0.9778 - val_loss: 0.1841 - val_accuracy: 0.9333\nEpoch 200/200\n14/14 [==============================] - 0s 3ms/step - loss: 0.0762 - accuracy: 0.9778 - val_loss: 0.2093 - val_accuracy: 0.9333\nWall time: 9.92 s\n"
    },
    {
     "output_type": "execute_result",
     "data": {
      "text/plain": "&lt;tensorflow.python.keras.callbacks.History at 0x26191fffa08&gt;"
     },
     "metadata": {},
     "execution_count": 81
    }
   ],
   "source": [
    "%%time\n",
    "# Fitting the model\n",
    "model.fit(x_train, y_train, validation_data = (x_test, y_test), epochs = 200, batch_size = 10)"
   ]
  }
 ]
}