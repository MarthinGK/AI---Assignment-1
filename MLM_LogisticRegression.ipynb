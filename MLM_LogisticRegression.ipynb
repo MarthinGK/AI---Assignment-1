{
 "metadata": {
  "language_info": {
   "codemirror_mode": {
    "name": "ipython",
    "version": 3
   },
   "file_extension": ".py",
   "mimetype": "text/x-python",
   "name": "python",
   "nbconvert_exporter": "python",
   "pygments_lexer": "ipython3",
   "version": "3.7.4-final"
  },
  "orig_nbformat": 2,
  "kernelspec": {
   "name": "Python 3.7.4 64-bit (conda)",
   "display_name": "Python 3.7.4 64-bit (conda)",
   "metadata": {
    "interpreter": {
     "hash": "d0b275da17715d9055f4a4ed2c551b904732c435e15639b3f41b58f43119799b"
    }
   }
  }
 },
 "nbformat": 4,
 "nbformat_minor": 2,
 "cells": [
  {
   "cell_type": "code",
   "execution_count": 86,
   "metadata": {},
   "outputs": [],
   "source": [
    "%matplotlib inline\n",
    "\n",
    "import numpy as np # linear algebra\n",
    "import seaborn as sns\n",
    "sns.set(style='whitegrid')\n",
    "import pandas as pd # data processing, CSV file I/O (e.g. pd.read_csv)\n",
    "import matplotlib.pyplot as plt\n",
    "import tensorflow as tf\n",
    "import matplotlib.pyplot as plt\n",
    "\n",
    "from sklearn.utils import shuffle\n",
    "\n",
    "from sklearn.model_selection import train_test_split\n",
    "from sklearn.linear_model import LogisticRegression\n",
    "\n",
    "from sklearn.preprocessing import MinMaxScaler, StandardScaler\n",
    "\n",
    "#from sklearn import linear_model"
   ]
  },
  {
   "cell_type": "code",
   "execution_count": 87,
   "metadata": {},
   "outputs": [
    {
     "output_type": "execute_result",
     "data": {
      "text/plain": "   SepalLengthCm  SepalWidthCm  PetalLengthCm  PetalWidthCm      Species\n0            5.1           3.5            1.4           0.2  Iris-setosa\n1            4.9           3.0            1.4           0.2  Iris-setosa\n2            4.7           3.2            1.3           0.2  Iris-setosa\n3            4.6           3.1            1.5           0.2  Iris-setosa\n4            5.0           3.6            1.4           0.2  Iris-setosa",
      "text/html": "<div>\n<style scoped>\n    .dataframe tbody tr th:only-of-type {\n        vertical-align: middle;\n    }\n\n    .dataframe tbody tr th {\n        vertical-align: top;\n    }\n\n    .dataframe thead th {\n        text-align: right;\n    }\n</style>\n<table border=\"1\" class=\"dataframe\">\n  <thead>\n    <tr style=\"text-align: right;\">\n      <th></th>\n      <th>SepalLengthCm</th>\n      <th>SepalWidthCm</th>\n      <th>PetalLengthCm</th>\n      <th>PetalWidthCm</th>\n      <th>Species</th>\n    </tr>\n  </thead>\n  <tbody>\n    <tr>\n      <td>0</td>\n      <td>5.1</td>\n      <td>3.5</td>\n      <td>1.4</td>\n      <td>0.2</td>\n      <td>Iris-setosa</td>\n    </tr>\n    <tr>\n      <td>1</td>\n      <td>4.9</td>\n      <td>3.0</td>\n      <td>1.4</td>\n      <td>0.2</td>\n      <td>Iris-setosa</td>\n    </tr>\n    <tr>\n      <td>2</td>\n      <td>4.7</td>\n      <td>3.2</td>\n      <td>1.3</td>\n      <td>0.2</td>\n      <td>Iris-setosa</td>\n    </tr>\n    <tr>\n      <td>3</td>\n      <td>4.6</td>\n      <td>3.1</td>\n      <td>1.5</td>\n      <td>0.2</td>\n      <td>Iris-setosa</td>\n    </tr>\n    <tr>\n      <td>4</td>\n      <td>5.0</td>\n      <td>3.6</td>\n      <td>1.4</td>\n      <td>0.2</td>\n      <td>Iris-setosa</td>\n    </tr>\n  </tbody>\n</table>\n</div>"
     },
     "metadata": {},
     "execution_count": 87
    }
   ],
   "source": [
    "ds=r\"C:\\Users\\Marthin\\Desktop\\Dataset\\iris.data\"\n",
    "\n",
    "raw_dataset = pd.read_csv(ds)\n",
    "\n",
    "column_names = ['SepalLengthCm', 'SepalWidthCm', 'PetalLengthCm', 'PetalWidthCm', 'Species']\n",
    "\n",
    "raw_dataset = pd.read_csv(ds, names=column_names,\n",
    "                          na_values='?', comment='\\t',\n",
    "                          sep=',', skipinitialspace=True)\n",
    "raw_dataset.head()"
   ]
  },
  {
   "cell_type": "code",
   "execution_count": 88,
   "metadata": {},
   "outputs": [
    {
     "output_type": "execute_result",
     "data": {
      "text/plain": "Iris-virginica     50\nIris-versicolor    50\nIris-setosa        50\nName: Species, dtype: int64"
     },
     "metadata": {},
     "execution_count": 88
    }
   ],
   "source": [
    "raw_dataset.shape\n",
    "iris = raw_dataset.copy()\n",
    "iris['Species'].value_counts()\n",
    "\n",
    "# # X is our features ('SepalLengthCm', 'SepalWidthCm', 'PetalLengthCm', 'PetalWidthCm')\n",
    "# X = ['SepalLengthCm', 'SepalWidthCm', 'PetalLengthCm', 'PetalWidthCm']\n",
    "# # y is our labels\n",
    "# y = ['Species']\n",
    "\n",
    "# iris.Species = iris.Species.replace(to_replace=['Iris-setosa', 'Iris-versicolor', 'Iris-virginica'], value=[0, 1, 2])"
   ]
  },
  {
   "cell_type": "code",
   "execution_count": 89,
   "metadata": {},
   "outputs": [],
   "source": [
    "data = shuffle(iris).reset_index(drop=True)"
   ]
  },
  {
   "cell_type": "code",
   "execution_count": 90,
   "metadata": {},
   "outputs": [
    {
     "output_type": "execute_result",
     "data": {
      "text/plain": "   SepalLengthCm  SepalWidthCm  PetalLengthCm  PetalWidthCm\n0            5.1           3.8            1.9           0.4\n1            5.5           3.5            1.3           0.2\n2            5.8           2.7            3.9           1.2\n3            6.4           3.2            5.3           2.3\n4            5.6           3.0            4.1           1.3",
      "text/html": "<div>\n<style scoped>\n    .dataframe tbody tr th:only-of-type {\n        vertical-align: middle;\n    }\n\n    .dataframe tbody tr th {\n        vertical-align: top;\n    }\n\n    .dataframe thead th {\n        text-align: right;\n    }\n</style>\n<table border=\"1\" class=\"dataframe\">\n  <thead>\n    <tr style=\"text-align: right;\">\n      <th></th>\n      <th>SepalLengthCm</th>\n      <th>SepalWidthCm</th>\n      <th>PetalLengthCm</th>\n      <th>PetalWidthCm</th>\n    </tr>\n  </thead>\n  <tbody>\n    <tr>\n      <td>0</td>\n      <td>5.1</td>\n      <td>3.8</td>\n      <td>1.9</td>\n      <td>0.4</td>\n    </tr>\n    <tr>\n      <td>1</td>\n      <td>5.5</td>\n      <td>3.5</td>\n      <td>1.3</td>\n      <td>0.2</td>\n    </tr>\n    <tr>\n      <td>2</td>\n      <td>5.8</td>\n      <td>2.7</td>\n      <td>3.9</td>\n      <td>1.2</td>\n    </tr>\n    <tr>\n      <td>3</td>\n      <td>6.4</td>\n      <td>3.2</td>\n      <td>5.3</td>\n      <td>2.3</td>\n    </tr>\n    <tr>\n      <td>4</td>\n      <td>5.6</td>\n      <td>3.0</td>\n      <td>4.1</td>\n      <td>1.3</td>\n    </tr>\n  </tbody>\n</table>\n</div>"
     },
     "metadata": {},
     "execution_count": 90
    }
   ],
   "source": [
    "X = data.iloc[:,:-1]\n",
    "Y = data['Species']\n",
    "Y = Y.map({'Iris-versicolor': 0, 'Iris-virginica': 1, 'Iris-setosa': 2}) \n",
    "X.head()"
   ]
  },
  {
   "cell_type": "code",
   "execution_count": 91,
   "metadata": {},
   "outputs": [],
   "source": [
    "# scaler = StandardScaler()\n",
    "# X = scaler.fit_transform(X)\n",
    "# scaler = MinMaxScaler()\n",
    "# X = scaler.fit_transform(X)"
   ]
  },
  {
   "cell_type": "code",
   "execution_count": 92,
   "metadata": {
    "tags": []
   },
   "outputs": [],
   "source": [
    "x_train, x_test, y_train, y_test = train_test_split(X, Y, test_size=0.2, random_state=100)"
   ]
  },
  {
   "cell_type": "code",
   "execution_count": 93,
   "metadata": {},
   "outputs": [
    {
     "output_type": "execute_result",
     "data": {
      "text/plain": "LogisticRegression(C=1.0, class_weight=None, dual=False, fit_intercept=True,\n                   intercept_scaling=1, l1_ratio=None, max_iter=100,\n                   multi_class=&#39;multinomial&#39;, n_jobs=None, penalty=&#39;l2&#39;,\n                   random_state=None, solver=&#39;newton-cg&#39;, tol=0.0001, verbose=0,\n                   warm_start=False)"
     },
     "metadata": {},
     "execution_count": 93
    }
   ],
   "source": [
    "LR_model = LogisticRegression(solver = 'newton-cg', multi_class = 'multinomial')\n",
    "\n",
    "LR_model.fit(x_train, y_train)"
   ]
  },
  {
   "cell_type": "code",
   "execution_count": 94,
   "metadata": {
    "tags": []
   },
   "outputs": [
    {
     "output_type": "stream",
     "name": "stdout",
     "text": "Training accuracy:  0.975\nTesting accuracy:  1.0\n"
    }
   ],
   "source": [
    "training_accuracy = LR_model.score(x_train, y_train)\n",
    "print(\"Training accuracy: \", training_accuracy)\n",
    "\n",
    "testing_accuracy = LR_model.score(x_test, y_test)\n",
    "print(\"Testing accuracy: \", testing_accuracy)"
   ]
  },
  {
   "source": [
    "## Lets see how accuracy is calculated"
   ],
   "cell_type": "markdown",
   "metadata": {}
  },
  {
   "cell_type": "code",
   "execution_count": 95,
   "metadata": {
    "tags": []
   },
   "outputs": [
    {
     "output_type": "stream",
     "name": "stdout",
     "text": "Y-actualLabel    Z-predictedLabel     Error \n\n2 \t\t 2 \t\t 0.0\n0 \t\t 0 \t\t 0.0\n2 \t\t 2 \t\t 0.0\n0 \t\t 0 \t\t 0.0\n0 \t\t 0 \t\t 0.0\n2 \t\t 2 \t\t 0.0\n1 \t\t 1 \t\t 0.0\n0 \t\t 0 \t\t 0.0\n1 \t\t 1 \t\t 0.0\n2 \t\t 2 \t\t 0.0\n0 \t\t 0 \t\t 0.0\n2 \t\t 2 \t\t 0.0\n1 \t\t 1 \t\t 0.0\n2 \t\t 2 \t\t 0.0\n0 \t\t 0 \t\t 0.0\n2 \t\t 2 \t\t 0.0\n2 \t\t 2 \t\t 0.0\n2 \t\t 2 \t\t 0.0\n2 \t\t 2 \t\t 0.0\n1 \t\t 1 \t\t 0.0\n2 \t\t 2 \t\t 0.0\n1 \t\t 1 \t\t 0.0\n1 \t\t 1 \t\t 0.0\n0 \t\t 0 \t\t 0.0\n0 \t\t 0 \t\t 0.0\n0 \t\t 0 \t\t 0.0\n1 \t\t 1 \t\t 0.0\n1 \t\t 1 \t\t 0.0\n0 \t\t 0 \t\t 0.0\n1 \t\t 1 \t\t 0.0\n1 \t\t 1 \t\t 0.0\n2 \t\t 2 \t\t 0.0\n1 \t\t 1 \t\t 0.0\n2 \t\t 2 \t\t 0.0\n1 \t\t 1 \t\t 0.0\n1 \t\t 1 \t\t 0.0\n2 \t\t 2 \t\t 0.0\n1 \t\t 1 \t\t 0.0\n2 \t\t 2 \t\t 0.0\n2 \t\t 2 \t\t 0.0\n0 \t\t 0 \t\t 0.0\n0 \t\t 0 \t\t 0.0\n0 \t\t 0 \t\t 0.0\n1 \t\t 1 \t\t 0.0\n0 \t\t 1 \t\t 1.0\n0 \t\t 0 \t\t 0.0\n1 \t\t 1 \t\t 0.0\n2 \t\t 2 \t\t 0.0\n1 \t\t 1 \t\t 0.0\n2 \t\t 2 \t\t 0.0\n1 \t\t 1 \t\t 0.0\n0 \t\t 0 \t\t 0.0\n2 \t\t 2 \t\t 0.0\n1 \t\t 1 \t\t 0.0\n0 \t\t 1 \t\t 1.0\n2 \t\t 2 \t\t 0.0\n0 \t\t 0 \t\t 0.0\n1 \t\t 1 \t\t 0.0\n1 \t\t 1 \t\t 0.0\n0 \t\t 0 \t\t 0.0\n2 \t\t 2 \t\t 0.0\n1 \t\t 1 \t\t 0.0\n1 \t\t 1 \t\t 0.0\n0 \t\t 0 \t\t 0.0\n1 \t\t 1 \t\t 0.0\n1 \t\t 1 \t\t 0.0\n0 \t\t 0 \t\t 0.0\n1 \t\t 1 \t\t 0.0\n2 \t\t 2 \t\t 0.0\n0 \t\t 0 \t\t 0.0\n0 \t\t 1 \t\t 1.0\n1 \t\t 1 \t\t 0.0\n2 \t\t 2 \t\t 0.0\n2 \t\t 2 \t\t 0.0\n1 \t\t 1 \t\t 0.0\n2 \t\t 2 \t\t 0.0\n0 \t\t 0 \t\t 0.0\n0 \t\t 0 \t\t 0.0\n0 \t\t 0 \t\t 0.0\n2 \t\t 2 \t\t 0.0\n1 \t\t 1 \t\t 0.0\n2 \t\t 2 \t\t 0.0\n1 \t\t 1 \t\t 0.0\n1 \t\t 1 \t\t 0.0\n0 \t\t 0 \t\t 0.0\n0 \t\t 0 \t\t 0.0\n2 \t\t 2 \t\t 0.0\n2 \t\t 2 \t\t 0.0\n2 \t\t 2 \t\t 0.0\n1 \t\t 1 \t\t 0.0\n2 \t\t 2 \t\t 0.0\n1 \t\t 1 \t\t 0.0\n0 \t\t 0 \t\t 0.0\n1 \t\t 1 \t\t 0.0\n1 \t\t 1 \t\t 0.0\n2 \t\t 2 \t\t 0.0\n2 \t\t 2 \t\t 0.0\n0 \t\t 0 \t\t 0.0\n2 \t\t 2 \t\t 0.0\n0 \t\t 0 \t\t 0.0\n0 \t\t 0 \t\t 0.0\n1 \t\t 1 \t\t 0.0\n0 \t\t 0 \t\t 0.0\n1 \t\t 1 \t\t 0.0\n2 \t\t 2 \t\t 0.0\n0 \t\t 0 \t\t 0.0\n0 \t\t 0 \t\t 0.0\n2 \t\t 2 \t\t 0.0\n1 \t\t 1 \t\t 0.0\n2 \t\t 2 \t\t 0.0\n0 \t\t 0 \t\t 0.0\n0 \t\t 0 \t\t 0.0\n2 \t\t 2 \t\t 0.0\n1 \t\t 1 \t\t 0.0\n0 \t\t 0 \t\t 0.0\n2 \t\t 2 \t\t 0.0\n0 \t\t 0 \t\t 0.0\n2 \t\t 2 \t\t 0.0\n0 \t\t 0 \t\t 0.0\n0 \t\t 0 \t\t 0.0\n\n The error rate is  0.025\n\n The accuracy of the model is  0.975\n"
    }
   ],
   "source": [
    "predicted_label = LR_model.predict(x_train)\n",
    "\n",
    "def find_error(actual_label, predicted_label):\n",
    "    ''' Print the error rate given a series or array of 'actual_labels' and 'predicted_labels'. '''\n",
    "\n",
    "    # Create an empty array to store loss values\n",
    "    Loss_array = np.zeros(len(actual_label))\n",
    "\n",
    "    # Loop through predictions and count number of incorrect labels\n",
    "    print(\"Y-actualLabel    Z-predictedLabel     Error \\n\")\n",
    "\n",
    "    for i, value in enumerate(actual_label):\n",
    "        if value == predicted_label[i]:\n",
    "            Loss_array[i] = 0\n",
    "        else: \n",
    "            Loss_array[i] = 1\n",
    "        print(value, \"\\t\\t\" , predicted_label[i], \"\\t\\t\" , Loss_array[i])\n",
    "    \n",
    "    # Print average error and accuracy\n",
    "    error_rate = np.average(Loss_array)\n",
    "    print(\"\\n The error rate is \", error_rate)\n",
    "    print(\"\\n The accuracy of the model is \", 1-error_rate)\n",
    "\n",
    "find_error(y_train, predicted_label)"
   ]
  },
  {
   "cell_type": "code",
   "execution_count": 96,
   "metadata": {
    "tags": []
   },
   "outputs": [
    {
     "output_type": "stream",
     "name": "stdout",
     "text": "Accuracy:  1.0\n"
    }
   ],
   "source": [
    "#LR_model.fit(x_test, y_test)\n",
    "\n",
    "test_accuracy = LR_model.score(x_test, y_test)\n",
    "\n",
    "(print(\"Accuracy: \", test_accuracy))"
   ]
  },
  {
   "source": [
    "## Visualize the results"
   ],
   "cell_type": "markdown",
   "metadata": {}
  },
  {
   "cell_type": "code",
   "execution_count": 97,
   "metadata": {},
   "outputs": [],
   "source": [
    "# Find the min and max sepal length and widths boundaries for the graph\n",
    "\n",
    "# h = 0.02 \n",
    "# x_min = X['SepalLengthCm'].min() - .5\n",
    "# x_max = X['SepalLengthCm'].max() + .5\n",
    "\n",
    "# y_min = X['SepalWidthCm'].min() - .5\n",
    "# y_max = X['SepalWidthCm'].max() + .5\n",
    "\n",
    "# z_min = X['PetalLengthCm'].min() - .5\n",
    "# z_max = X['PetalLengthCm'].max() + .5\n",
    "\n",
    "# e_min = X['PetalWidthCm'].min() - .5\n",
    "# e_max = X['PetalWidthCm'].max() + .5\n",
    "\n",
    "# sepal_length_range = np.arange(x_min, x_max, h)\n",
    "# sepal_width_range = np.arange(y_min, y_max, h)\n",
    "# petal_length_range = np.arange(z_min, z_max, h)\n",
    "# petal_width_range = np.arange(e_min, e_max, h)\n",
    "\n",
    "# # Create datapoints for the mesh\n",
    "# sepal_length_values, sepal_width_values = np.meshgrid(sepal_length_range, sepal_width_range)\n",
    "# petal_length_values, petal_width_values = np.meshgrid(petal_length_range, petal_width_range)\n",
    "\n",
    "# # Predict species for the fictious data in meshgrid \n",
    "# predicted_species = LR_model.predict(np.c_[sepal_length_values.ravel(), sepal_width_values.ravel(), petal_length_values.ravel(),  petal_width_values.ravel()])\n",
    "\n",
    "# print(\"Finished predicting species\")"
   ]
  },
  {
   "cell_type": "code",
   "execution_count": null,
   "metadata": {},
   "outputs": [],
   "source": []
  }
 ]
}